{
  "nbformat": 4,
  "nbformat_minor": 0,
  "metadata": {
    "colab": {
      "name": "Princpios.ipynb",
      "provenance": [],
      "authorship_tag": "ABX9TyPpdMYyZxQzNq8V60EbPM+L",
      "include_colab_link": true
    },
    "kernelspec": {
      "name": "python3",
      "display_name": "Python 3"
    },
    "language_info": {
      "name": "python"
    }
  },
  "cells": [
    {
      "cell_type": "markdown",
      "metadata": {
        "id": "view-in-github",
        "colab_type": "text"
      },
      "source": [
        "<a href=\"https://colab.research.google.com/github/pedrorotta/claseGratisPython/blob/main/Princpios.ipynb\" target=\"_parent\"><img src=\"https://colab.research.google.com/assets/colab-badge.svg\" alt=\"Open In Colab\"/></a>"
      ]
    },
    {
      "cell_type": "markdown",
      "metadata": {
        "id": "0xOvCMZK5iAc"
      },
      "source": [
        "<h1> Variables </h1>"
      ]
    },
    {
      "cell_type": "markdown",
      "metadata": {
        "id": "IPjNV0vH5r_g"
      },
      "source": [
        "Así como en la vida real hay objetos, los lenguajes de programación también tienen objetos. Algunos son super simples y se les llama variables. "
      ]
    },
    {
      "cell_type": "code",
      "metadata": {
        "colab": {
          "base_uri": "https://localhost:8080/"
        },
        "id": "afHtRm3N5dpc",
        "outputId": "ff01514e-20cc-4e0b-c814-2de66ab44864"
      },
      "source": [
        "# Números\n",
        "a = 3\n",
        "b = 3.4\n",
        "print(a,b)"
      ],
      "execution_count": null,
      "outputs": [
        {
          "output_type": "stream",
          "name": "stdout",
          "text": [
            "3 3.4\n"
          ]
        }
      ]
    },
    {
      "cell_type": "code",
      "metadata": {
        "colab": {
          "base_uri": "https://localhost:8080/"
        },
        "id": "UQAmzMDZ56lW",
        "outputId": "ea7ca78a-9e32-4d2d-914c-ca7d3f424a78"
      },
      "source": [
        "#Cadenas de texto\n",
        "saludo = \"Hola mundo \"\n",
        "print(saludo + \"Pedro\")"
      ],
      "execution_count": null,
      "outputs": [
        {
          "output_type": "stream",
          "name": "stdout",
          "text": [
            "Hola mundo Pedro\n"
          ]
        }
      ]
    },
    {
      "cell_type": "code",
      "metadata": {
        "colab": {
          "base_uri": "https://localhost:8080/"
        },
        "id": "yy4jTlK659dE",
        "outputId": "a355665b-fb85-4454-8dbb-c0d06f45853f"
      },
      "source": [
        "#Bool\n",
        "False"
      ],
      "execution_count": 51,
      "outputs": [
        {
          "output_type": "execute_result",
          "data": {
            "text/plain": [
              "False"
            ]
          },
          "metadata": {},
          "execution_count": 51
        }
      ]
    },
    {
      "cell_type": "code",
      "metadata": {
        "colab": {
          "base_uri": "https://localhost:8080/"
        },
        "id": "7C96BeIk5-MX",
        "outputId": "abb9fd5d-ad02-41c8-ac61-40eb0fd87a7c"
      },
      "source": [
        "#Bool\n",
        "True"
      ],
      "execution_count": 52,
      "outputs": [
        {
          "output_type": "execute_result",
          "data": {
            "text/plain": [
              "True"
            ]
          },
          "metadata": {},
          "execution_count": 52
        }
      ]
    },
    {
      "cell_type": "code",
      "metadata": {
        "colab": {
          "base_uri": "https://localhost:8080/"
        },
        "id": "EOipU82J5-wb",
        "outputId": "8db16206-8f64-441d-eb25-549aa0af075a"
      },
      "source": [
        "nombre = \"Pedro\"\n",
        "print(f\"Buenos días {nombre}\") #Un literal permite colocar una variable dentro del literal"
      ],
      "execution_count": 53,
      "outputs": [
        {
          "output_type": "stream",
          "name": "stdout",
          "text": [
            "Buenos días Pedro\n"
          ]
        }
      ]
    },
    {
      "cell_type": "code",
      "metadata": {
        "colab": {
          "base_uri": "https://localhost:8080/"
        },
        "id": "koPh1SKV6fkj",
        "outputId": "08a87738-db6d-4c3d-b980-4076db8c5a23"
      },
      "source": [
        "nombre = \"Juan\"\n",
        "print(\"Buenos días {}\".format(nombre))"
      ],
      "execution_count": null,
      "outputs": [
        {
          "output_type": "stream",
          "name": "stdout",
          "text": [
            "Buenos días Juan\n"
          ]
        }
      ]
    },
    {
      "cell_type": "code",
      "metadata": {
        "id": "LNB3pfD06q-4"
      },
      "source": [
        "#\"\"\"\"Imagina que tienes un acceso de seguridad\"\"\" #\": Identificar que Persona es la que está abriendo la puerta\n",
        "# Primer caso\n",
        "###Si mi nombre es Pedro => Me autenticaré como Pedro, Si mi nombre es Juan,me autenticaré como Juan\n",
        "\n",
        "\n",
        "def Autenticar (nombre):\n",
        "  a = f\"Buenos días {nombre}\"\n",
        "  return a "
      ],
      "execution_count": null,
      "outputs": []
    },
    {
      "cell_type": "code",
      "metadata": {
        "colab": {
          "base_uri": "https://localhost:8080/",
          "height": 35
        },
        "id": "cn8br8IO8tx_",
        "outputId": "c6c6cf48-b1fc-4fdb-c4a2-44d98976c952"
      },
      "source": [
        "Autenticar(\"Pedro\")"
      ],
      "execution_count": null,
      "outputs": [
        {
          "output_type": "execute_result",
          "data": {
            "application/vnd.google.colaboratory.intrinsic+json": {
              "type": "string"
            },
            "text/plain": [
              "'Buenos días Pedro'"
            ]
          },
          "metadata": {},
          "execution_count": 29
        }
      ]
    },
    {
      "cell_type": "code",
      "metadata": {
        "colab": {
          "base_uri": "https://localhost:8080/",
          "height": 35
        },
        "id": "1AnP-y7R84yp",
        "outputId": "ff3c82e9-0eed-444f-8040-d24faf6d5d23"
      },
      "source": [
        "Autenticar(\"Juan\")"
      ],
      "execution_count": null,
      "outputs": [
        {
          "output_type": "execute_result",
          "data": {
            "application/vnd.google.colaboratory.intrinsic+json": {
              "type": "string"
            },
            "text/plain": [
              "'Buenos días Juan'"
            ]
          },
          "metadata": {},
          "execution_count": 30
        }
      ]
    },
    {
      "cell_type": "code",
      "metadata": {
        "colab": {
          "base_uri": "https://localhost:8080/",
          "height": 35
        },
        "id": "a7-BDwUj87WJ",
        "outputId": "2bcdca9d-319c-44d6-9128-4295d0743176"
      },
      "source": [
        "Autenticar(\"Marcelo\")"
      ],
      "execution_count": null,
      "outputs": [
        {
          "output_type": "execute_result",
          "data": {
            "application/vnd.google.colaboratory.intrinsic+json": {
              "type": "string"
            },
            "text/plain": [
              "'Buenos días Marcelo'"
            ]
          },
          "metadata": {},
          "execution_count": 31
        }
      ]
    },
    {
      "cell_type": "code",
      "metadata": {
        "id": "dEd_os3w89bt"
      },
      "source": [
        "def Saludo():\n",
        "  nombre = input(\"Ingrese su nombre : \")\n",
        "  Saludo = Autenticar(nombre)\n",
        "  print(Saludo)"
      ],
      "execution_count": null,
      "outputs": []
    },
    {
      "cell_type": "code",
      "metadata": {
        "colab": {
          "base_uri": "https://localhost:8080/",
          "height": 622
        },
        "id": "OupXf4PM9rfX",
        "outputId": "99c5bccc-928e-4fd8-e8d1-34efcaafc8ed"
      },
      "source": [
        "while(True):\n",
        "  Saludo()"
      ],
      "execution_count": null,
      "outputs": [
        {
          "output_type": "stream",
          "name": "stdout",
          "text": [
            "Ingrese su nombre : Pedro\n",
            "Buenos días Pedro\n",
            "Ingrese su nombre : Juan\n",
            "Buenos días Juan\n",
            "Ingrese su nombre : Marco\n",
            "Buenos días Marco\n"
          ]
        },
        {
          "output_type": "error",
          "ename": "KeyboardInterrupt",
          "evalue": "ignored",
          "traceback": [
            "\u001b[0;31m---------------------------------------------------------------------------\u001b[0m",
            "\u001b[0;31mKeyboardInterrupt\u001b[0m                         Traceback (most recent call last)",
            "\u001b[0;32m/usr/local/lib/python3.7/dist-packages/ipykernel/kernelbase.py\u001b[0m in \u001b[0;36m_input_request\u001b[0;34m(self, prompt, ident, parent, password)\u001b[0m\n\u001b[1;32m    728\u001b[0m             \u001b[0;32mtry\u001b[0m\u001b[0;34m:\u001b[0m\u001b[0;34m\u001b[0m\u001b[0;34m\u001b[0m\u001b[0m\n\u001b[0;32m--> 729\u001b[0;31m                 \u001b[0mident\u001b[0m\u001b[0;34m,\u001b[0m \u001b[0mreply\u001b[0m \u001b[0;34m=\u001b[0m \u001b[0mself\u001b[0m\u001b[0;34m.\u001b[0m\u001b[0msession\u001b[0m\u001b[0;34m.\u001b[0m\u001b[0mrecv\u001b[0m\u001b[0;34m(\u001b[0m\u001b[0mself\u001b[0m\u001b[0;34m.\u001b[0m\u001b[0mstdin_socket\u001b[0m\u001b[0;34m,\u001b[0m \u001b[0;36m0\u001b[0m\u001b[0;34m)\u001b[0m\u001b[0;34m\u001b[0m\u001b[0;34m\u001b[0m\u001b[0m\n\u001b[0m\u001b[1;32m    730\u001b[0m             \u001b[0;32mexcept\u001b[0m \u001b[0mException\u001b[0m\u001b[0;34m:\u001b[0m\u001b[0;34m\u001b[0m\u001b[0;34m\u001b[0m\u001b[0m\n",
            "\u001b[0;32m/usr/local/lib/python3.7/dist-packages/jupyter_client/session.py\u001b[0m in \u001b[0;36mrecv\u001b[0;34m(self, socket, mode, content, copy)\u001b[0m\n\u001b[1;32m    802\u001b[0m         \u001b[0;32mtry\u001b[0m\u001b[0;34m:\u001b[0m\u001b[0;34m\u001b[0m\u001b[0;34m\u001b[0m\u001b[0m\n\u001b[0;32m--> 803\u001b[0;31m             \u001b[0mmsg_list\u001b[0m \u001b[0;34m=\u001b[0m \u001b[0msocket\u001b[0m\u001b[0;34m.\u001b[0m\u001b[0mrecv_multipart\u001b[0m\u001b[0;34m(\u001b[0m\u001b[0mmode\u001b[0m\u001b[0;34m,\u001b[0m \u001b[0mcopy\u001b[0m\u001b[0;34m=\u001b[0m\u001b[0mcopy\u001b[0m\u001b[0;34m)\u001b[0m\u001b[0;34m\u001b[0m\u001b[0;34m\u001b[0m\u001b[0m\n\u001b[0m\u001b[1;32m    804\u001b[0m         \u001b[0;32mexcept\u001b[0m \u001b[0mzmq\u001b[0m\u001b[0;34m.\u001b[0m\u001b[0mZMQError\u001b[0m \u001b[0;32mas\u001b[0m \u001b[0me\u001b[0m\u001b[0;34m:\u001b[0m\u001b[0;34m\u001b[0m\u001b[0;34m\u001b[0m\u001b[0m\n",
            "\u001b[0;32m/usr/local/lib/python3.7/dist-packages/zmq/sugar/socket.py\u001b[0m in \u001b[0;36mrecv_multipart\u001b[0;34m(self, flags, copy, track)\u001b[0m\n\u001b[1;32m    624\u001b[0m         \"\"\"\n\u001b[0;32m--> 625\u001b[0;31m         \u001b[0mparts\u001b[0m \u001b[0;34m=\u001b[0m \u001b[0;34m[\u001b[0m\u001b[0mself\u001b[0m\u001b[0;34m.\u001b[0m\u001b[0mrecv\u001b[0m\u001b[0;34m(\u001b[0m\u001b[0mflags\u001b[0m\u001b[0;34m,\u001b[0m \u001b[0mcopy\u001b[0m\u001b[0;34m=\u001b[0m\u001b[0mcopy\u001b[0m\u001b[0;34m,\u001b[0m \u001b[0mtrack\u001b[0m\u001b[0;34m=\u001b[0m\u001b[0mtrack\u001b[0m\u001b[0;34m)\u001b[0m\u001b[0;34m]\u001b[0m\u001b[0;34m\u001b[0m\u001b[0;34m\u001b[0m\u001b[0m\n\u001b[0m\u001b[1;32m    626\u001b[0m         \u001b[0;31m# have first part already, only loop while more to receive\u001b[0m\u001b[0;34m\u001b[0m\u001b[0;34m\u001b[0m\u001b[0;34m\u001b[0m\u001b[0m\n",
            "\u001b[0;32mzmq/backend/cython/socket.pyx\u001b[0m in \u001b[0;36mzmq.backend.cython.socket.Socket.recv\u001b[0;34m()\u001b[0m\n",
            "\u001b[0;32mzmq/backend/cython/socket.pyx\u001b[0m in \u001b[0;36mzmq.backend.cython.socket.Socket.recv\u001b[0;34m()\u001b[0m\n",
            "\u001b[0;32mzmq/backend/cython/socket.pyx\u001b[0m in \u001b[0;36mzmq.backend.cython.socket._recv_copy\u001b[0;34m()\u001b[0m\n",
            "\u001b[0;32m/usr/local/lib/python3.7/dist-packages/zmq/backend/cython/checkrc.pxd\u001b[0m in \u001b[0;36mzmq.backend.cython.checkrc._check_rc\u001b[0;34m()\u001b[0m\n",
            "\u001b[0;31mKeyboardInterrupt\u001b[0m: ",
            "\nDuring handling of the above exception, another exception occurred:\n",
            "\u001b[0;31mKeyboardInterrupt\u001b[0m                         Traceback (most recent call last)",
            "\u001b[0;32m<ipython-input-34-924d60988ec9>\u001b[0m in \u001b[0;36m<module>\u001b[0;34m()\u001b[0m\n\u001b[1;32m      1\u001b[0m \u001b[0;32mwhile\u001b[0m\u001b[0;34m(\u001b[0m\u001b[0;32mTrue\u001b[0m\u001b[0;34m)\u001b[0m\u001b[0;34m:\u001b[0m\u001b[0;34m\u001b[0m\u001b[0;34m\u001b[0m\u001b[0m\n\u001b[0;32m----> 2\u001b[0;31m   \u001b[0mSaludo\u001b[0m\u001b[0;34m(\u001b[0m\u001b[0;34m)\u001b[0m\u001b[0;34m\u001b[0m\u001b[0;34m\u001b[0m\u001b[0m\n\u001b[0m",
            "\u001b[0;32m<ipython-input-33-e15952d01672>\u001b[0m in \u001b[0;36mSaludo\u001b[0;34m()\u001b[0m\n\u001b[1;32m      1\u001b[0m \u001b[0;32mdef\u001b[0m \u001b[0mSaludo\u001b[0m\u001b[0;34m(\u001b[0m\u001b[0;34m)\u001b[0m\u001b[0;34m:\u001b[0m\u001b[0;34m\u001b[0m\u001b[0;34m\u001b[0m\u001b[0m\n\u001b[0;32m----> 2\u001b[0;31m   \u001b[0mnombre\u001b[0m \u001b[0;34m=\u001b[0m \u001b[0minput\u001b[0m\u001b[0;34m(\u001b[0m\u001b[0;34m\"Ingrese su nombre : \"\u001b[0m\u001b[0;34m)\u001b[0m\u001b[0;34m\u001b[0m\u001b[0;34m\u001b[0m\u001b[0m\n\u001b[0m\u001b[1;32m      3\u001b[0m   \u001b[0mSaludo\u001b[0m \u001b[0;34m=\u001b[0m \u001b[0mAutenticar\u001b[0m\u001b[0;34m(\u001b[0m\u001b[0mnombre\u001b[0m\u001b[0;34m)\u001b[0m\u001b[0;34m\u001b[0m\u001b[0;34m\u001b[0m\u001b[0m\n\u001b[1;32m      4\u001b[0m   \u001b[0mprint\u001b[0m\u001b[0;34m(\u001b[0m\u001b[0mSaludo\u001b[0m\u001b[0;34m)\u001b[0m\u001b[0;34m\u001b[0m\u001b[0;34m\u001b[0m\u001b[0m\n",
            "\u001b[0;32m/usr/local/lib/python3.7/dist-packages/ipykernel/kernelbase.py\u001b[0m in \u001b[0;36mraw_input\u001b[0;34m(self, prompt)\u001b[0m\n\u001b[1;32m    702\u001b[0m             \u001b[0mself\u001b[0m\u001b[0;34m.\u001b[0m\u001b[0m_parent_ident\u001b[0m\u001b[0;34m,\u001b[0m\u001b[0;34m\u001b[0m\u001b[0;34m\u001b[0m\u001b[0m\n\u001b[1;32m    703\u001b[0m             \u001b[0mself\u001b[0m\u001b[0;34m.\u001b[0m\u001b[0m_parent_header\u001b[0m\u001b[0;34m,\u001b[0m\u001b[0;34m\u001b[0m\u001b[0;34m\u001b[0m\u001b[0m\n\u001b[0;32m--> 704\u001b[0;31m             \u001b[0mpassword\u001b[0m\u001b[0;34m=\u001b[0m\u001b[0;32mFalse\u001b[0m\u001b[0;34m,\u001b[0m\u001b[0;34m\u001b[0m\u001b[0;34m\u001b[0m\u001b[0m\n\u001b[0m\u001b[1;32m    705\u001b[0m         )\n\u001b[1;32m    706\u001b[0m \u001b[0;34m\u001b[0m\u001b[0m\n",
            "\u001b[0;32m/usr/local/lib/python3.7/dist-packages/ipykernel/kernelbase.py\u001b[0m in \u001b[0;36m_input_request\u001b[0;34m(self, prompt, ident, parent, password)\u001b[0m\n\u001b[1;32m    732\u001b[0m             \u001b[0;32mexcept\u001b[0m \u001b[0mKeyboardInterrupt\u001b[0m\u001b[0;34m:\u001b[0m\u001b[0;34m\u001b[0m\u001b[0;34m\u001b[0m\u001b[0m\n\u001b[1;32m    733\u001b[0m                 \u001b[0;31m# re-raise KeyboardInterrupt, to truncate traceback\u001b[0m\u001b[0;34m\u001b[0m\u001b[0;34m\u001b[0m\u001b[0;34m\u001b[0m\u001b[0m\n\u001b[0;32m--> 734\u001b[0;31m                 \u001b[0;32mraise\u001b[0m \u001b[0mKeyboardInterrupt\u001b[0m\u001b[0;34m\u001b[0m\u001b[0;34m\u001b[0m\u001b[0m\n\u001b[0m\u001b[1;32m    735\u001b[0m             \u001b[0;32melse\u001b[0m\u001b[0;34m:\u001b[0m\u001b[0;34m\u001b[0m\u001b[0;34m\u001b[0m\u001b[0m\n\u001b[1;32m    736\u001b[0m                 \u001b[0;32mbreak\u001b[0m\u001b[0;34m\u001b[0m\u001b[0;34m\u001b[0m\u001b[0m\n",
            "\u001b[0;31mKeyboardInterrupt\u001b[0m: "
          ]
        }
      ]
    },
    {
      "cell_type": "code",
      "metadata": {
        "colab": {
          "base_uri": "https://localhost:8080/"
        },
        "id": "Ql_R9OuLETHi",
        "outputId": "b617dcc8-d189-45f5-a978-d3b38b265119"
      },
      "source": [
        "import math \n",
        "math.cos(90)"
      ],
      "execution_count": 23,
      "outputs": [
        {
          "output_type": "execute_result",
          "data": {
            "text/plain": [
              "-0.4480736161291701"
            ]
          },
          "metadata": {},
          "execution_count": 23
        }
      ]
    },
    {
      "cell_type": "code",
      "metadata": {
        "id": "b7DYDQ46MENR"
      },
      "source": [
        "def cos(x):\n",
        "  return math.cos(x)\n"
      ],
      "execution_count": 26,
      "outputs": []
    },
    {
      "cell_type": "code",
      "metadata": {
        "colab": {
          "base_uri": "https://localhost:8080/"
        },
        "id": "BF16oeVIMFI7",
        "outputId": "1e089883-7b61-4db3-f3f3-225d4083028d"
      },
      "source": [
        "print(cos(90))"
      ],
      "execution_count": 27,
      "outputs": [
        {
          "output_type": "stream",
          "name": "stdout",
          "text": [
            "-0.4480736161291701\n"
          ]
        }
      ]
    },
    {
      "cell_type": "code",
      "metadata": {
        "colab": {
          "base_uri": "https://localhost:8080/"
        },
        "id": "BrlX-w17NE_A",
        "outputId": "dd2b571f-1c2f-471b-8c58-114dd9817f59"
      },
      "source": [
        "#Scope\n",
        "\n",
        "# Variables globales => Se definen en todo el programa\n",
        "\n",
        "a = 3 # Algo muy importante\n",
        "#if a>2: \n",
        " # print(\"verdero\")\n",
        "\n",
        "\n",
        "\n",
        "def suma(x):\n",
        "  resultado = a+x\n",
        "  return resultado\n",
        "\n",
        "\n",
        "resultado = suma(4)\n",
        "print(resultado)\n"
      ],
      "execution_count": 50,
      "outputs": [
        {
          "output_type": "stream",
          "name": "stdout",
          "text": [
            "7\n"
          ]
        }
      ]
    },
    {
      "cell_type": "code",
      "metadata": {
        "colab": {
          "base_uri": "https://localhost:8080/"
        },
        "id": "9HVMblxBWd8v",
        "outputId": "cc996e2c-cacc-48af-a157-a0cd20861e9a"
      },
      "source": [
        "print(suma(3))"
      ],
      "execution_count": 35,
      "outputs": [
        {
          "output_type": "stream",
          "name": "stdout",
          "text": [
            "None\n"
          ]
        }
      ]
    },
    {
      "cell_type": "markdown",
      "metadata": {
        "id": "1NpurZsdoFhM"
      },
      "source": [
        "#Ejercicios"
      ]
    },
    {
      "cell_type": "markdown",
      "metadata": {
        "id": "s47_s9ScYeAL"
      },
      "source": [
        "<p><span><strong>1a) </strong></span>Imprime las siguientes variables</p>\n",
        "<ul>\n",
        "    <li>Número 7</li>\n",
        "    <li>Número 4.5</li>\n",
        "    <li>Número 9.1</li>\n",
        "    <li>Número 4.8</li>\n",
        "    <li>Número 5/4</li>\n",
        "    <li>Número 100000000000000000000000</li>\n",
        "</ul>\n",
        "\n",
        "<p><span><strong>1b) </strong></span>Imprime las variables juntas</p>"
      ]
    },
    {
      "cell_type": "markdown",
      "metadata": {
        "id": "SyCZ58pYZtzs"
      },
      "source": [
        "<p><span><strong>2a) </strong></span>Guarda e imprime las siguientes variables</p>\n",
        "<ul>\n",
        "    <li>Hola bienvenido</li>\n",
        "    <li>Adíos, gracias </li>\n",
        "    <li>Programa iniciado </li>\n",
        "    <li>Iniciando programa... </li>\n",
        "</ul>\n",
        "\n"
      ]
    },
    {
      "cell_type": "markdown",
      "metadata": {
        "id": "nVi6fBeeh_fe"
      },
      "source": [
        "<p><span><strong>3) </strong></span>Guarda e imprime las variables en un mensaje usando literales</p>\n",
        "    <li>Variable Nombre, Mensaje \"Bienvenido ...\"</li>\n",
        "    <li>Variable Edad, Mensaje \"Mi edad es ...\"</li>\n",
        "    <li>Variable Alumnos, Mensaje \" Existen ... alumnos\"</li>\n",
        "    <li>Variable Personas, Mensaje \"Lo han visto ... personas</li>"
      ]
    },
    {
      "cell_type": "markdown",
      "metadata": {
        "id": "LslpwSQ0jr2w"
      },
      "source": [
        "\n",
        "<p><span><strong>4) </strong></span>Guarda e imprime las variables en un mensaje usando format</p>\n",
        "    <li>Variable Nombre, Mensaje \"Bienvenido ...\"</li>\n",
        "    <li>Variable Edad, Mensaje \"Mi edad es ...\"</li>\n",
        "    <li>Variable Alumnos, Mensaje \" Existen ... alumnos\"</li>\n",
        "    <li>Variable Personas, Mensaje \"Lo han visto ... personas</li>\n"
      ]
    },
    {
      "cell_type": "markdown",
      "metadata": {
        "id": "0LGZwhK9jxOU"
      },
      "source": [
        "\n",
        "<p><span><strong>5) </strong></span>Crea las siguientes funciones lógicas:</p>\n",
        "    <li>Una función que imprima un nombre</li>\n",
        "    <li>Crea una función que multiplica una variable por 5</li>\n",
        "    <li>Crea una función que sume 2 variables</li>"
      ]
    },
    {
      "cell_type": "markdown",
      "metadata": {
        "id": "PXc-n-sXlSaK"
      },
      "source": [
        "<p><span><strong>6) </strong></span>Crea un programa que devuelva:</p>\n",
        "    <li>Un mensaje de bienvenida para un nombre</li>\n",
        "    <li>El cuadrado de un número</li>\n",
        "    <li>La mitad de un número</li>\n",
        "<p>Guarda el programa en un archivo txt.py</p>"
      ]
    },
    {
      "cell_type": "markdown",
      "metadata": {
        "id": "LhOfxBQrnMm7"
      },
      "source": [
        "<p><span><strong>7) </strong></span>Crea un programa que devuelva:</p>\n",
        "<p>\n",
        "    <ol>\n",
        "        <li>La raiz cuadrada de un número</li>\n",
        "        <li>El cubo de un número</li>\n",
        "        <li>La tangente de un número en sexagesimal</li>\n",
        "    <ol>\n",
        "</p>"
      ]
    }
  ]
}